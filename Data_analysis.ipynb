{
 "cells": [
  {
   "cell_type": "code",
   "execution_count": 1,
   "metadata": {},
   "outputs": [],
   "source": [
    "import numpy as np # NumPy is the fundamental package for scientific computing\n",
    "\n",
    "import pandas as pd # Pandas is an easy-to-use data structures and data analysis tools\n",
    "pd.set_option('display.max_columns', None) # To display all columns\n",
    "\n",
    "import matplotlib.pyplot as plt # Matplotlib is a python 2D plotting library\n",
    "%matplotlib inline \n",
    "# A magic command that tells matplotlib to render figures as static images in the Notebook.\n",
    "\n",
    "import seaborn as sns # Seaborn is a visualization library based on matplotlib (attractive statistical graphics).\n",
    "sns.set_style('whitegrid') # One of the five seaborn themes\n",
    "import warnings\n",
    "warnings.filterwarnings('ignore') # To ignore some of seaborn warning msg\n",
    "\n",
    "from scipy import stats, linalg\n",
    "\n",
    "import folium # for map visualization\n",
    "from folium import plugins"
   ]
  },
  {
   "cell_type": "markdown",
   "metadata": {},
   "source": [
    "### Load data"
   ]
  },
  {
   "cell_type": "code",
   "execution_count": 9,
   "metadata": {
    "collapsed": true
   },
   "outputs": [],
   "source": [
    "data_all = pd.read_csv(\"listings.csv\")"
   ]
  },
  {
   "cell_type": "code",
   "execution_count": 16,
   "metadata": {},
   "outputs": [],
   "source": [
    "data_map = pd.read_csv(\"listings_map.csv\")"
   ]
  },
  {
   "cell_type": "code",
   "execution_count": 17,
   "metadata": {},
   "outputs": [],
   "source": [
    "data_map = data_map[data_map.zipcode >= 0]\n",
    "#data_map['zipcode'] = data_map['zipcode'].astype()"
   ]
  },
  {
   "cell_type": "code",
   "execution_count": 18,
   "metadata": {},
   "outputs": [],
   "source": [
    "data_map['street'] = data_map['street'].astype('category', ordered = True)\n",
    "data_map['neighbourhood'] = data_map['neighbourhood'].astype('category', ordered = True)\n",
    "data_map['neighbourhood_cleansed'] = data_map['neighbourhood_cleansed'].astype('category', ordered = True)\n",
    "\n",
    "data_map['city'] = data_map['city'].astype('category', ordered = True)\n",
    "data_map['state'] = data_map['state'].astype('category', ordered = True)\n",
    "data_map['zipcode'] = data_map['zipcode'].astype(str)"
   ]
  },
  {
   "cell_type": "code",
   "execution_count": 19,
   "metadata": {},
   "outputs": [
    {
     "data": {
      "text/plain": [
       "id                                 int64\n",
       "street                          category\n",
       "neighbourhood                   category\n",
       "neighbourhood_cleansed          category\n",
       "neighbourhood_group_cleansed      object\n",
       "city                            category\n",
       "state                           category\n",
       "zipcode                           object\n",
       "latitude                         float64\n",
       "longitude                        float64\n",
       "price                              int64\n",
       "dtype: object"
      ]
     },
     "execution_count": 19,
     "metadata": {},
     "output_type": "execute_result"
    }
   ],
   "source": [
    "data_map.dtypes"
   ]
  },
  {
   "cell_type": "code",
   "execution_count": 20,
   "metadata": {},
   "outputs": [
    {
     "data": {
      "text/html": [
       "<div>\n",
       "<table border=\"1\" class=\"dataframe\">\n",
       "  <thead>\n",
       "    <tr style=\"text-align: right;\">\n",
       "      <th></th>\n",
       "      <th>id</th>\n",
       "      <th>street</th>\n",
       "      <th>neighbourhood</th>\n",
       "      <th>neighbourhood_cleansed</th>\n",
       "      <th>neighbourhood_group_cleansed</th>\n",
       "      <th>city</th>\n",
       "      <th>state</th>\n",
       "      <th>zipcode</th>\n",
       "      <th>latitude</th>\n",
       "      <th>longitude</th>\n",
       "      <th>price</th>\n",
       "    </tr>\n",
       "  </thead>\n",
       "  <tbody>\n",
       "    <tr>\n",
       "      <th>0</th>\n",
       "      <td>685006</td>\n",
       "      <td>Ocean Avenue, Brooklyn, NY 11225, United States</td>\n",
       "      <td>Lefferts Garden</td>\n",
       "      <td>Prospect-Lefferts Gardens</td>\n",
       "      <td>Brooklyn</td>\n",
       "      <td>Brooklyn</td>\n",
       "      <td>NY</td>\n",
       "      <td>11225</td>\n",
       "      <td>40.661408</td>\n",
       "      <td>-73.961750</td>\n",
       "      <td>75</td>\n",
       "    </tr>\n",
       "    <tr>\n",
       "      <th>1</th>\n",
       "      <td>9461238</td>\n",
       "      <td>Roebling Street, Brooklyn, NY 11211, United St...</td>\n",
       "      <td>Williamsburg</td>\n",
       "      <td>Williamsburg</td>\n",
       "      <td>Brooklyn</td>\n",
       "      <td>Brooklyn</td>\n",
       "      <td>NY</td>\n",
       "      <td>11211</td>\n",
       "      <td>40.716320</td>\n",
       "      <td>-73.957255</td>\n",
       "      <td>117</td>\n",
       "    </tr>\n",
       "  </tbody>\n",
       "</table>\n",
       "</div>"
      ],
      "text/plain": [
       "        id                                             street  \\\n",
       "0   685006    Ocean Avenue, Brooklyn, NY 11225, United States   \n",
       "1  9461238  Roebling Street, Brooklyn, NY 11211, United St...   \n",
       "\n",
       "     neighbourhood     neighbourhood_cleansed neighbourhood_group_cleansed  \\\n",
       "0  Lefferts Garden  Prospect-Lefferts Gardens                     Brooklyn   \n",
       "1     Williamsburg               Williamsburg                     Brooklyn   \n",
       "\n",
       "       city state zipcode   latitude  longitude  price  \n",
       "0  Brooklyn    NY   11225  40.661408 -73.961750     75  \n",
       "1  Brooklyn    NY   11211  40.716320 -73.957255    117  "
      ]
     },
     "execution_count": 20,
     "metadata": {},
     "output_type": "execute_result"
    }
   ],
   "source": [
    "data_map.head(2)"
   ]
  },
  {
   "cell_type": "markdown",
   "metadata": {},
   "source": [
    "### Clustered number of listings"
   ]
  },
  {
   "cell_type": "code",
   "execution_count": 21,
   "metadata": {},
   "outputs": [],
   "source": [
    "houses_map = folium.Map(location = [data_map['latitude'].mean(), data_map['longitude'].mean()], zoom_start = 10)\n",
    "marker_cluster = folium.MarkerCluster().add_to(houses_map)\n",
    "MAX_RECORDS = 100\n",
    "for name, row in data_map.iterrows():\n",
    "    folium.Marker([row[\"latitude\"], row[\"longitude\"]],\n",
    "                  popup=\"Price {0}$\".format(row['price'])).add_to(marker_cluster)"
   ]
  },
  {
   "cell_type": "code",
   "execution_count": 22,
   "metadata": {},
   "outputs": [
    {
     "data": {
      "text/plain": [
       "folium.folium.Map"
      ]
     },
     "execution_count": 22,
     "metadata": {},
     "output_type": "execute_result"
    }
   ],
   "source": [
    "type(houses_map)"
   ]
  },
  {
   "cell_type": "code",
   "execution_count": 23,
   "metadata": {},
   "outputs": [],
   "source": [
    "houses_map.save('houses.html')"
   ]
  },
  {
   "cell_type": "markdown",
   "metadata": {},
   "source": [
    "### Map the price with zipcode  \n",
    "\n",
    "\n",
    "#### Zipcode format"
   ]
  },
  {
   "cell_type": "code",
   "execution_count": 24,
   "metadata": {},
   "outputs": [
    {
     "data": {
      "text/html": [
       "<div>\n",
       "<table border=\"1\" class=\"dataframe\">\n",
       "  <thead>\n",
       "    <tr style=\"text-align: right;\">\n",
       "      <th></th>\n",
       "      <th>zipcode</th>\n",
       "      <th>id</th>\n",
       "      <th>latitude</th>\n",
       "      <th>longitude</th>\n",
       "      <th>price</th>\n",
       "      <th>count</th>\n",
       "    </tr>\n",
       "  </thead>\n",
       "  <tbody>\n",
       "    <tr>\n",
       "      <th>0</th>\n",
       "      <td>10001</td>\n",
       "      <td>9.434253e+06</td>\n",
       "      <td>40.749090</td>\n",
       "      <td>-73.994349</td>\n",
       "      <td>222.150901</td>\n",
       "      <td>444</td>\n",
       "    </tr>\n",
       "    <tr>\n",
       "      <th>1</th>\n",
       "      <td>10002</td>\n",
       "      <td>8.032648e+06</td>\n",
       "      <td>40.717797</td>\n",
       "      <td>-73.988928</td>\n",
       "      <td>171.464988</td>\n",
       "      <td>1271</td>\n",
       "    </tr>\n",
       "    <tr>\n",
       "      <th>2</th>\n",
       "      <td>10003</td>\n",
       "      <td>8.450358e+06</td>\n",
       "      <td>40.730454</td>\n",
       "      <td>-73.987713</td>\n",
       "      <td>216.505396</td>\n",
       "      <td>1112</td>\n",
       "    </tr>\n",
       "    <tr>\n",
       "      <th>3</th>\n",
       "      <td>10003-8623</td>\n",
       "      <td>8.339270e+05</td>\n",
       "      <td>40.724109</td>\n",
       "      <td>-73.990818</td>\n",
       "      <td>215.000000</td>\n",
       "      <td>1</td>\n",
       "    </tr>\n",
       "  </tbody>\n",
       "</table>\n",
       "</div>"
      ],
      "text/plain": [
       "      zipcode            id   latitude  longitude       price  count\n",
       "0       10001  9.434253e+06  40.749090 -73.994349  222.150901    444\n",
       "1       10002  8.032648e+06  40.717797 -73.988928  171.464988   1271\n",
       "2       10003  8.450358e+06  40.730454 -73.987713  216.505396   1112\n",
       "3  10003-8623  8.339270e+05  40.724109 -73.990818  215.000000      1"
      ]
     },
     "execution_count": 24,
     "metadata": {},
     "output_type": "execute_result"
    }
   ],
   "source": [
    "zipcode_data = data_map.groupby('zipcode').aggregate(np.mean)\n",
    "zipcode_data.reset_index(inplace=True)\n",
    "\n",
    "data_map['count'] = 1\n",
    "count_houses_zipcode = data_map.groupby('zipcode').sum()\n",
    "count_houses_zipcode.reset_index(inplace=True)\n",
    "count_houses_zipcode = count_houses_zipcode[['zipcode','count']]\n",
    "data_map.drop(['count'], axis = 1, inplace = True)\n",
    "\n",
    "zipcode_data = pd.merge(zipcode_data, count_houses_zipcode, how='left', on=['zipcode'])\n",
    "zipcode_data.head(4)"
   ]
  },
  {
   "cell_type": "code",
   "execution_count": 25,
   "metadata": {
    "collapsed": true
   },
   "outputs": [],
   "source": [
    "min_val = zipcode_data.price.min()\n",
    "q1 = zipcode_data.price.quantile( .2)\n",
    "q2 = zipcode_data.price.quantile( .4)\n",
    "q3 = zipcode_data.price.quantile( .6)\n",
    "q4 = zipcode_data.price.quantile( .8)"
   ]
  },
  {
   "cell_type": "code",
   "execution_count": 26,
   "metadata": {},
   "outputs": [],
   "source": [
    "zipcode_data=zipcode_data.rename(columns = {'zipcode':'ZCTA5CE10'})"
   ]
  },
  {
   "cell_type": "code",
   "execution_count": 27,
   "metadata": {},
   "outputs": [
    {
     "data": {
      "text/html": [
       "<div>\n",
       "<table border=\"1\" class=\"dataframe\">\n",
       "  <thead>\n",
       "    <tr style=\"text-align: right;\">\n",
       "      <th></th>\n",
       "      <th>ZCTA5CE10</th>\n",
       "      <th>id</th>\n",
       "      <th>latitude</th>\n",
       "      <th>longitude</th>\n",
       "      <th>price</th>\n",
       "      <th>count</th>\n",
       "    </tr>\n",
       "  </thead>\n",
       "  <tbody>\n",
       "    <tr>\n",
       "      <th>0</th>\n",
       "      <td>10001</td>\n",
       "      <td>9.434253e+06</td>\n",
       "      <td>40.749090</td>\n",
       "      <td>-73.994349</td>\n",
       "      <td>222.150901</td>\n",
       "      <td>444</td>\n",
       "    </tr>\n",
       "    <tr>\n",
       "      <th>1</th>\n",
       "      <td>10002</td>\n",
       "      <td>8.032648e+06</td>\n",
       "      <td>40.717797</td>\n",
       "      <td>-73.988928</td>\n",
       "      <td>171.464988</td>\n",
       "      <td>1271</td>\n",
       "    </tr>\n",
       "    <tr>\n",
       "      <th>2</th>\n",
       "      <td>10003</td>\n",
       "      <td>8.450358e+06</td>\n",
       "      <td>40.730454</td>\n",
       "      <td>-73.987713</td>\n",
       "      <td>216.505396</td>\n",
       "      <td>1112</td>\n",
       "    </tr>\n",
       "    <tr>\n",
       "      <th>3</th>\n",
       "      <td>10003-8623</td>\n",
       "      <td>8.339270e+05</td>\n",
       "      <td>40.724109</td>\n",
       "      <td>-73.990818</td>\n",
       "      <td>215.000000</td>\n",
       "      <td>1</td>\n",
       "    </tr>\n",
       "    <tr>\n",
       "      <th>4</th>\n",
       "      <td>10004</td>\n",
       "      <td>9.234468e+06</td>\n",
       "      <td>40.705678</td>\n",
       "      <td>-74.013235</td>\n",
       "      <td>196.078125</td>\n",
       "      <td>64</td>\n",
       "    </tr>\n",
       "    <tr>\n",
       "      <th>5</th>\n",
       "      <td>10005</td>\n",
       "      <td>1.119964e+07</td>\n",
       "      <td>40.705473</td>\n",
       "      <td>-74.008450</td>\n",
       "      <td>190.207692</td>\n",
       "      <td>130</td>\n",
       "    </tr>\n",
       "    <tr>\n",
       "      <th>6</th>\n",
       "      <td>10006</td>\n",
       "      <td>1.024856e+07</td>\n",
       "      <td>40.708560</td>\n",
       "      <td>-74.013841</td>\n",
       "      <td>210.528571</td>\n",
       "      <td>70</td>\n",
       "    </tr>\n",
       "    <tr>\n",
       "      <th>7</th>\n",
       "      <td>10007</td>\n",
       "      <td>8.877462e+06</td>\n",
       "      <td>40.714792</td>\n",
       "      <td>-74.008000</td>\n",
       "      <td>368.440000</td>\n",
       "      <td>25</td>\n",
       "    </tr>\n",
       "    <tr>\n",
       "      <th>8</th>\n",
       "      <td>10009</td>\n",
       "      <td>8.271224e+06</td>\n",
       "      <td>40.725959</td>\n",
       "      <td>-73.981486</td>\n",
       "      <td>166.396274</td>\n",
       "      <td>1181</td>\n",
       "    </tr>\n",
       "    <tr>\n",
       "      <th>9</th>\n",
       "      <td>10010</td>\n",
       "      <td>8.787314e+06</td>\n",
       "      <td>40.739312</td>\n",
       "      <td>-73.983671</td>\n",
       "      <td>224.125356</td>\n",
       "      <td>351</td>\n",
       "    </tr>\n",
       "  </tbody>\n",
       "</table>\n",
       "</div>"
      ],
      "text/plain": [
       "    ZCTA5CE10            id   latitude  longitude       price  count\n",
       "0       10001  9.434253e+06  40.749090 -73.994349  222.150901    444\n",
       "1       10002  8.032648e+06  40.717797 -73.988928  171.464988   1271\n",
       "2       10003  8.450358e+06  40.730454 -73.987713  216.505396   1112\n",
       "3  10003-8623  8.339270e+05  40.724109 -73.990818  215.000000      1\n",
       "4       10004  9.234468e+06  40.705678 -74.013235  196.078125     64\n",
       "5       10005  1.119964e+07  40.705473 -74.008450  190.207692    130\n",
       "6       10006  1.024856e+07  40.708560 -74.013841  210.528571     70\n",
       "7       10007  8.877462e+06  40.714792 -74.008000  368.440000     25\n",
       "8       10009  8.271224e+06  40.725959 -73.981486  166.396274   1181\n",
       "9       10010  8.787314e+06  40.739312 -73.983671  224.125356    351"
      ]
     },
     "execution_count": 27,
     "metadata": {},
     "output_type": "execute_result"
    }
   ],
   "source": [
    "zipcode_data.head(10)"
   ]
  },
  {
   "cell_type": "markdown",
   "metadata": {},
   "source": [
    "#### plot"
   ]
  },
  {
   "cell_type": "code",
   "execution_count": 29,
   "metadata": {},
   "outputs": [],
   "source": [
    "state_geo = r'NY_zip.json'\n",
    "\n",
    "#Let Folium determine the scale\n",
    "map = folium.Map(location=[data_map['latitude'].mean(), data_map['longitude'].mean()], zoom_start=9)\n",
    "map.choropleth(geo_path=state_geo, data=zipcode_data,\n",
    "             columns=['ZCTA5CE10', 'price'],\n",
    "             key_on='feature.properties.ZCTA5CE10',\n",
    "             threshold_scale=[min_val, q1, q2, q3, q4],\n",
    "             fill_color='OrRd', fill_opacity=0.7, line_opacity=0.2,\n",
    "             legend_name='price of Airbnb')\n",
    "map.save('NY_price.html')"
   ]
  },
  {
   "cell_type": "markdown",
   "metadata": {},
   "source": [
    "### Pearson Correlation Heat Map"
   ]
  },
  {
   "cell_type": "code",
   "execution_count": 30,
   "metadata": {
    "collapsed": true
   },
   "outputs": [],
   "source": [
    "data_all = pd.read_csv(\"listings.csv\")"
   ]
  },
  {
   "cell_type": "code",
   "execution_count": null,
   "metadata": {
    "collapsed": true
   },
   "outputs": [],
   "source": [
    "cols = ['price',\n",
    "        'accommodates',\n",
    "        'bedrooms',\n",
    "        'beds',\n",
    "        'neighbourhood_cleansed',\n",
    "        'room_type',\n",
    "        'cancellation_policy',\n",
    "        'instant_bookable',\n",
    "        'reviews_per_month',\n",
    "        'number_of_reviews',\n",
    "        'availability_30',\n",
    "        'review_scores_rating',\n",
    "#         'property_type',\n",
    "#         'bed_type',\n",
    "#         'cleaning_fee',\n",
    "        ]\n",
    "#read the file into a dataframe\n",
    "df=pd.read_csv(listing, usecols=cols)\n"
   ]
  }
 ],
 "metadata": {
  "anaconda-cloud": {},
  "kernelspec": {
   "display_name": "Python 2",
   "language": "python",
   "name": "python2"
  },
  "language_info": {
   "codemirror_mode": {
    "name": "ipython",
    "version": 2
   },
   "file_extension": ".py",
   "mimetype": "text/x-python",
   "name": "python",
   "nbconvert_exporter": "python",
   "pygments_lexer": "ipython2",
   "version": "2.7.13"
  }
 },
 "nbformat": 4,
 "nbformat_minor": 1
}
